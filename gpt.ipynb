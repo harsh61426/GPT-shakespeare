# dataset to train - download the tiny shakespeare dataset
!wget https://raw.githubusercontent.com/karpathy/char-rnn/master/data/tinyshakespeare/input.txt
